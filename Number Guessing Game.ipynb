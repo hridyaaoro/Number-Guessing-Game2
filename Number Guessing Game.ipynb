{
 "cells": [
  {
   "cell_type": "code",
   "execution_count": 1,
   "id": "e893092d",
   "metadata": {},
   "outputs": [
    {
     "name": "stdout",
     "output_type": "stream",
     "text": [
      "Enter any number: 3\n",
      "Too high!\n",
      "Enter number again: 5\n",
      "Too high!\n",
      "Enter number again: 2\n",
      "you guessed it right!!\n"
     ]
    }
   ],
   "source": [
    "import random\n",
    "n = random.randrange(1,10)\n",
    "guess = int(input(\"Enter any number: \"))\n",
    "while n!= guess:\n",
    "    if guess < n:\n",
    "        print(\"Too low\")\n",
    "        guess = int(input(\"Enter number again: \"))\n",
    "    elif guess > n:\n",
    "        print(\"Too high!\")\n",
    "        guess = int(input(\"Enter number again: \"))\n",
    "    else:\n",
    "      break\n",
    "print(\"you guessed it right!!\")"
   ]
  },
  {
   "cell_type": "code",
   "execution_count": null,
   "id": "31c96d9a",
   "metadata": {},
   "outputs": [],
   "source": []
  }
 ],
 "metadata": {
  "kernelspec": {
   "display_name": "Python 3 (ipykernel)",
   "language": "python",
   "name": "python3"
  },
  "language_info": {
   "codemirror_mode": {
    "name": "ipython",
    "version": 3
   },
   "file_extension": ".py",
   "mimetype": "text/x-python",
   "name": "python",
   "nbconvert_exporter": "python",
   "pygments_lexer": "ipython3",
   "version": "3.9.7"
  }
 },
 "nbformat": 4,
 "nbformat_minor": 5
}
